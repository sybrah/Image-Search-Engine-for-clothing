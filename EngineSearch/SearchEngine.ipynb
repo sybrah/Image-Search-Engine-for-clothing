{
 "cells": [
  {
   "cell_type": "code",
   "execution_count": 2,
   "id": "4a067039-7f84-489c-a27b-009d0820c6d1",
   "metadata": {},
   "outputs": [
    {
     "name": "stderr",
     "output_type": "stream",
     "text": [
      "C:\\Users\\brahe\\AppData\\Roaming\\Python\\Python311\\site-packages\\sentence_transformers\\cross_encoder\\CrossEncoder.py:11: TqdmExperimentalWarning: Using `tqdm.autonotebook.tqdm` in notebook mode. Use `tqdm.tqdm` instead to force console mode (e.g. in jupyter console)\n",
      "  from tqdm.autonotebook import tqdm, trange\n"
     ]
    },
    {
     "name": "stdout",
     "output_type": "stream",
     "text": [
      "WARNING:tensorflow:From C:\\Users\\brahe\\AppData\\Roaming\\Python\\Python311\\site-packages\\keras\\src\\losses.py:2976: The name tf.losses.sparse_softmax_cross_entropy is deprecated. Please use tf.compat.v1.losses.sparse_softmax_cross_entropy instead.\n",
      "\n"
     ]
    }
   ],
   "source": [
    "import os\n",
    "import pandas as pd\n",
    "import tensorflow as tf\n",
    "from dotenv import load_dotenv\n",
    "import torch\n",
    "from langchain.document_loaders import DirectoryLoader\n",
    "from langchain.embeddings import HuggingFaceEmbeddings\n",
    "from langchain.text_splitter import RecursiveCharacterTextSplitter\n",
    "from langchain.vectorstores import Chroma\n",
    "from langchain.chains.llm import LLMChain\n",
    "from langchain.prompts import PromptTemplate\n",
    "from langchain.chains.combine_documents.stuff import StuffDocumentsChain\n",
    "from langchain.text_splitter import CharacterTextSplitter\n",
    "from langchain.chat_models import ChatOpenAI\n",
    "from sentence_transformers import SentenceTransformer\n",
    "\n"
   ]
  },
  {
   "cell_type": "code",
   "execution_count": 3,
   "id": "11be4505-355c-4ef8-9010-a60f23f7d9d9",
   "metadata": {},
   "outputs": [],
   "source": [
    "import chromadb\n",
    "from chromadb.utils import embedding_functions"
   ]
  },
  {
   "cell_type": "code",
   "execution_count": 197,
   "id": "ba3736ea-be43-4d50-944b-3b034173a885",
   "metadata": {},
   "outputs": [],
   "source": [
    "\n",
    "load_dotenv()\n",
    "\n",
    "HUGGINGFACEHUB_API_TOKEN = os.getenv(\"HUGGINGFACEHUB_API_KEY\")\n",
    "OPENAI_API_KEY = os.getenv(\"OPENAI_API_KEY\")"
   ]
  },
  {
   "cell_type": "code",
   "execution_count": 198,
   "id": "afac8342-649f-465f-8c35-73f964fa9210",
   "metadata": {},
   "outputs": [],
   "source": [
    "\n",
    "CHROMA_DATA_PATH = r\"./embeddings_database\"\n",
    "DATA_DIR = r\"./data\"\n",
    "COLLECTION_NAME = \"SearchEngine\"\n",
    "\n",
    "EMBED_MODEL = \"google-bert/bert-base-uncased\"\n",
    "\n",
    "EMBED_FUNCTION = embedding_functions.SentenceTransformerEmbeddingFunction(\n",
    "     model_name=EMBED_MODEL\n",
    " )"
   ]
  },
  {
   "cell_type": "code",
   "execution_count": 199,
   "id": "a3898c29-6d4b-42e1-a275-131f6eb93748",
   "metadata": {},
   "outputs": [],
   "source": [
    "client = chromadb.PersistentClient(path = CHROMA_DATA_PATH)"
   ]
  },
  {
   "cell_type": "code",
   "execution_count": 200,
   "id": "a336b44b-732e-49a2-b879-77c76d5ff73f",
   "metadata": {},
   "outputs": [],
   "source": [
    "\n",
    "collection = client.create_collection(name=COLLECTION_NAME,embedding_function = EMBED_FUNCTION,metadata={\"hnsw:space\": \"cosine\"},)"
   ]
  },
  {
   "cell_type": "code",
   "execution_count": 4,
   "id": "d101c7fe-1a0d-4d40-b21e-c01f6f226986",
   "metadata": {},
   "outputs": [
    {
     "data": {
      "text/html": [
       "<div>\n",
       "<style scoped>\n",
       "    .dataframe tbody tr th:only-of-type {\n",
       "        vertical-align: middle;\n",
       "    }\n",
       "\n",
       "    .dataframe tbody tr th {\n",
       "        vertical-align: top;\n",
       "    }\n",
       "\n",
       "    .dataframe thead th {\n",
       "        text-align: right;\n",
       "    }\n",
       "</style>\n",
       "<table border=\"1\" class=\"dataframe\">\n",
       "  <thead>\n",
       "    <tr style=\"text-align: right;\">\n",
       "      <th></th>\n",
       "      <th>image</th>\n",
       "      <th>text</th>\n",
       "    </tr>\n",
       "  </thead>\n",
       "  <tbody>\n",
       "    <tr>\n",
       "      <th>0</th>\n",
       "      <td>{'bytes': b'\\xff\\xd8\\xff\\xe0\\x00\\x10JFIF\\x00\\x...</td>\n",
       "      <td>Mulberry Blue Zipped Backpack leather bag. a b...</td>\n",
       "    </tr>\n",
       "    <tr>\n",
       "      <th>1</th>\n",
       "      <td>{'bytes': b'\\xff\\xd8\\xff\\xe0\\x00\\x10JFIF\\x00\\x...</td>\n",
       "      <td>Balenciaga Black Track leather low trainers. a...</td>\n",
       "    </tr>\n",
       "    <tr>\n",
       "      <th>2</th>\n",
       "      <td>{'bytes': b'\\xff\\xd8\\xff\\xe0\\x00\\x10JFIF\\x00\\x...</td>\n",
       "      <td>Gucci Brown Leather vest. a black leather vest.</td>\n",
       "    </tr>\n",
       "    <tr>\n",
       "      <th>3</th>\n",
       "      <td>{'bytes': b'\\xff\\xd8\\xff\\xe0\\x00\\x10JFIF\\x00\\x...</td>\n",
       "      <td>Balenciaga Beige Wool pull. a sweater with bla...</td>\n",
       "    </tr>\n",
       "    <tr>\n",
       "      <th>4</th>\n",
       "      <td>{'bytes': b'\\xff\\xd8\\xff\\xe0\\x00\\x10JFIF\\x00\\x...</td>\n",
       "      <td>Mulberry Multicolour Cloth travel bag. a blue ...</td>\n",
       "    </tr>\n",
       "  </tbody>\n",
       "</table>\n",
       "</div>"
      ],
      "text/plain": [
       "                                               image  \\\n",
       "0  {'bytes': b'\\xff\\xd8\\xff\\xe0\\x00\\x10JFIF\\x00\\x...   \n",
       "1  {'bytes': b'\\xff\\xd8\\xff\\xe0\\x00\\x10JFIF\\x00\\x...   \n",
       "2  {'bytes': b'\\xff\\xd8\\xff\\xe0\\x00\\x10JFIF\\x00\\x...   \n",
       "3  {'bytes': b'\\xff\\xd8\\xff\\xe0\\x00\\x10JFIF\\x00\\x...   \n",
       "4  {'bytes': b'\\xff\\xd8\\xff\\xe0\\x00\\x10JFIF\\x00\\x...   \n",
       "\n",
       "                                                text  \n",
       "0  Mulberry Blue Zipped Backpack leather bag. a b...  \n",
       "1  Balenciaga Black Track leather low trainers. a...  \n",
       "2    Gucci Brown Leather vest. a black leather vest.  \n",
       "3  Balenciaga Beige Wool pull. a sweater with bla...  \n",
       "4  Mulberry Multicolour Cloth travel bag. a blue ...  "
      ]
     },
     "execution_count": 4,
     "metadata": {},
     "output_type": "execute_result"
    }
   ],
   "source": [
    "\n",
    "df = pd.read_parquet('Clothes.parquet')\n",
    "df.head()"
   ]
  },
  {
   "cell_type": "code",
   "execution_count": 202,
   "id": "330e5c5e-b89d-40de-9d5b-4d25b92b6731",
   "metadata": {},
   "outputs": [],
   "source": [
    "\n",
    "import sys\n",
    "if 'google.colab' in sys.modules:\n",
    "    print('Running in Colab.')\n",
    "    !pip3 install transformers==4.15.0 timm==0.4.12 fairscale==0.4.4\n",
    "    !git clone https://github.com/salesforce/BLIP\n",
    "    %cd BLIP"
   ]
  },
  {
   "cell_type": "code",
   "execution_count": 206,
   "id": "ea0ca695-40d4-4c04-a18f-c72f573e85df",
   "metadata": {},
   "outputs": [],
   "source": [
    "from transformers import BlipProcessor, BlipForConditionalGeneration\n",
    "\n",
    "processor = BlipProcessor.from_pretrained(\"Salesforce/blip-image-captioning-base\")\n",
    "model = BlipForConditionalGeneration.from_pretrained(\"Salesforce/blip-image-captioning-base\")\n",
    "\n",
    "\n"
   ]
  },
  {
   "cell_type": "code",
   "execution_count": 207,
   "id": "30f6a5e3-ad7d-4279-a100-294a0af352c8",
   "metadata": {},
   "outputs": [],
   "source": [
    "from transformers import AutoTokenizer, BertTokenizer, BertModel  # Import all necessary classes\n",
    "\n",
    "\n",
    "blip_tokenizer = AutoTokenizer.from_pretrained(\"salesforce/blip-image-captioning-base\")\n",
    "bert_tokenizer = BertTokenizer.from_pretrained(\"google-bert/bert-base-uncased\")\n",
    "bert_model = BertModel.from_pretrained(\"google-bert/bert-base-uncased\")\n"
   ]
  },
  {
   "cell_type": "code",
   "execution_count": 208,
   "id": "8b3edc9b-38ed-4cde-b79b-91b18c24519c",
   "metadata": {},
   "outputs": [],
   "source": [
    "\n",
    "def generate_caption(image_bytes):\n",
    "    \"\"\"Generates text .\"\"\"\n",
    "    image = tf.io.decode_image(image_bytes)\n",
    "    image_np = image.numpy()\n",
    "    inputs = processor(images=image_np, return_tensors=\"pt\")\n",
    "    outputs = model.generate(**inputs)\n",
    "    caption = processor.batch_decode(outputs, skip_special_tokens=True)[0]\n",
    "\n",
    "    return caption\n",
    "\n"
   ]
  },
  {
   "cell_type": "code",
   "execution_count": 211,
   "id": "fab098f6-4d82-4557-bcb5-eb181aeff33d",
   "metadata": {},
   "outputs": [],
   "source": [
    "def get_bert_embedding(text):\n",
    "    \"\"\"Generates an embedding for the given text using BERT.\"\"\"\n",
    "    encoded_text = bert_tokenizer(text, return_tensors=\"pt\", padding=True, truncation=True)\n",
    "    with torch.no_grad(): \n",
    "        outputs = bert_model(**encoded_text)\n",
    "    embeddings = outputs.last_hidden_state[:, 0, :]  \n",
    "    embeddings_list = embeddings.squeeze(0).tolist() \n",
    "    \n",
    "    return embeddings_list\n"
   ]
  },
  {
   "cell_type": "code",
   "execution_count": 252,
   "id": "495eac65-b2f3-4fc6-816c-93c57c6d3a53",
   "metadata": {},
   "outputs": [],
   "source": [
    "    metadatas = []\n",
    "    new_documents = []\n",
    "    old_documents = []\n",
    "    ids = []\n",
    "    captions = []\n",
    "\n",
    "    for i in range(len(df)): \n",
    "        image_dict = df['image'][i]\n",
    "        image_bytes = image_dict[\"bytes\"]\n",
    "        image_cap = df['text'][i]\n",
    "        caption = generate_caption(image_bytes)\n",
    "        new_document = get_bert_embedding(caption)\n",
    "        old_document = get_bert_embedding(image_cap)\n",
    "\n",
    "        metadata = {\n",
    "            'original_caption': image_cap,\n",
    "            'generated_caption': caption,\n",
    "        }\n",
    "        metadatas.append(metadata)\n",
    "        new_documents.append(new_document)\n",
    "        old_documents.append(old_document)\n",
    "        ids.append(f\"id_{i}\")\n",
    "        captions.append(caption)\n",
    "\n",
    "\n",
    "    collection.add(\n",
    "        ids=ids,\n",
    "        embeddings=new_documents,  \n",
    "        metadatas=metadatas,\n",
    "        documents=captions, \n",
    "    )\n",
    "    "
   ]
  },
  {
   "cell_type": "code",
   "execution_count": 253,
   "id": "87ea0664-37ca-46fe-8205-bc54460d602f",
   "metadata": {},
   "outputs": [
    {
     "data": {
      "text/plain": [
       "990"
      ]
     },
     "execution_count": 253,
     "metadata": {},
     "output_type": "execute_result"
    }
   ],
   "source": [
    "collection.count()"
   ]
  }
 ],
 "metadata": {
  "kernelspec": {
   "display_name": "Python 3 (ipykernel)",
   "language": "python",
   "name": "python3"
  },
  "language_info": {
   "codemirror_mode": {
    "name": "ipython",
    "version": 3
   },
   "file_extension": ".py",
   "mimetype": "text/x-python",
   "name": "python",
   "nbconvert_exporter": "python",
   "pygments_lexer": "ipython3",
   "version": "3.11.2"
  }
 },
 "nbformat": 4,
 "nbformat_minor": 5
}
